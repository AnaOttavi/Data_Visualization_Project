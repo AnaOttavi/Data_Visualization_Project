{
 "cells": [
  {
   "cell_type": "markdown",
   "id": "6ce65cb2",
   "metadata": {},
   "source": [
    "# **Data Visualization Course**\n",
    "\n",
    "<br>\n",
    "\n",
    "- **Group Project 2022/2023**\n",
    "- **Academic Year: 2020-2023 | 3rd Trimester**\n",
    "- **Professor: Pedro Cabral**\n",
    "\n",
    "<br>\n",
    "\n",
    "- **\"King County House Prices\"**\n",
    "- **This notebook uses the *kc_house_data.csv**\n",
    "\n",
    "\n",
    "<br>\n",
    "\n",
    "> **Group composed by:**<p>\n",
    "> Ana Carolina Ottavi, nº 20220541<p>\n",
    "> Carolina Bezerra, nº 20220392 <p>\n",
    "> Carolina Confraria, nº 20220711 <p>\n",
    "> Daniella Camilato, nº 20221641  <p>"
   ]
  },
  {
   "cell_type": "markdown",
   "id": "726f53c5",
   "metadata": {},
   "source": [
    "## 📖 Introduction\n",
    "\n",
    "Within the scope of __Data Visualization__, it was proposed a project, where the groups' ability to deliver a visualization in accordance with the different features included in a dataset. The data for this project was provided by King County, Washington. The data includes homes sold between May 2014 and May 2015\n",
    "\n",
    "## 📖Dataset description\n",
    "\n",
    "\n",
    "- id - Unique ID for each home sold\n",
    "\n",
    "- date - Date of the home sale\n",
    "\n",
    "- price - Price of each home sold\n",
    "\n",
    "- bedrooms - Number of bedrooms\n",
    "\n",
    "- bathrooms - Number of bathrooms, where .5 accounts for a room with a toilet but no shower\n",
    "\n",
    "- sqft_living - Square footage of the apartments interior living space\n",
    "\n",
    "- sqft_lot - Square footage of the land space\n",
    "\n",
    "- floors - Number of floors\n",
    "\n",
    "- waterfront - A dummy variable for whether the apartment was overlooking the waterfront or not\n",
    "\n",
    "- view - An index from 0 to 4 of how good the view of the property was\n",
    "\n",
    "- condition - An index from 1 to 5 on the condition of the apartment,\n",
    "\n",
    "- grade - An index from 1 to 13, where 1-3 falls short of building construction and design, 7 has an average level of construction and design, and 11-13 have a high quality level of construction and design.\n",
    "\n",
    "- sqft_above - The square footage of the interior housing space that is above ground level\n",
    "\n",
    "- sqft_basement - The square footage of the interior housing space that is below ground level\n",
    "\n",
    "- yr_built - The year the house was initially built\n",
    "\n",
    "- yr_renovated - The year of the house’s last renovation\n",
    "\n",
    "- zipcode - What zipcode area the house is in\n",
    "\n",
    "- lat - Lattitude\n",
    "\n",
    "- long - Longitude\n",
    "\n",
    "- sqft_living15 - The square footage of interior housing living space for the nearest 15 neighbors\n",
    "\n",
    "- sqft_lot15 - The square footage of the land lots of the nearest 15 neighbors\n",
    "\n",
    "\n",
    "Verified from 2 sources:\n",
    "https://www.slideshare.net/PawanShivhare1/predicting-king-county-house-prices\n",
    "https://www.kaggle.com/datasets/harlfoxem/housesalesprediction"
   ]
  },
  {
   "cell_type": "code",
   "execution_count": 1,
   "id": "b800ab38",
   "metadata": {
    "ExecuteTime": {
     "end_time": "2023-04-09T18:55:26.826763Z",
     "start_time": "2023-04-09T18:55:25.913841Z"
    }
   },
   "outputs": [],
   "source": [
    "import pandas as pd\n",
    "import numpy as np\n",
    "import seaborn as sns\n",
    "from datetime import datetime\n",
    "from plotly import express as px\n",
    "import plotly.graph_objects as go\n",
    "import plotly.graph_objs as go\n",
    "import ipywidgets as widgets\n",
    "import plotly.offline as py"
   ]
  },
  {
   "cell_type": "code",
   "execution_count": 2,
   "id": "ede752a3",
   "metadata": {
    "ExecuteTime": {
     "end_time": "2023-04-09T18:55:27.659360Z",
     "start_time": "2023-04-09T18:55:26.827985Z"
    }
   },
   "outputs": [],
   "source": [
    "# load data\n",
    "url = \"https://raw.githubusercontent.com/AnaOttavi/Data_Visualization_Project/main/dataset.csv\"\n",
    "df = pd.read_csv(url)"
   ]
  },
  {
   "cell_type": "code",
   "execution_count": 3,
   "id": "cbd7c8ec",
   "metadata": {
    "ExecuteTime": {
     "end_time": "2023-04-09T18:55:27.664344Z",
     "start_time": "2023-04-09T18:55:27.660376Z"
    }
   },
   "outputs": [
    {
     "data": {
      "text/plain": [
       "Index(['id', 'date', 'price', 'bedrooms', 'bathrooms', 'sqft_living',\n",
       "       'sqft_lot', 'floors', 'waterfront', 'view', 'condition', 'grade',\n",
       "       'sqft_above', 'sqft_basement', 'yr_built', 'yr_renovated', 'zipcode',\n",
       "       'lat', 'long', 'sqft_living15', 'sqft_lot15'],\n",
       "      dtype='object')"
      ]
     },
     "execution_count": 3,
     "metadata": {},
     "output_type": "execute_result"
    }
   ],
   "source": [
    "df.columns"
   ]
  },
  {
   "cell_type": "code",
   "execution_count": 4,
   "id": "7e9b0a1a",
   "metadata": {
    "ExecuteTime": {
     "end_time": "2023-04-09T18:55:27.668399Z",
     "start_time": "2023-04-09T18:55:27.666064Z"
    }
   },
   "outputs": [
    {
     "name": "stdout",
     "output_type": "stream",
     "text": [
      "Number of Rows: 21613\n",
      "Number of Columns: 21\n"
     ]
    }
   ],
   "source": [
    "# Data Dimensions\n",
    "print('Number of Rows: {}'.format(df.shape[0]))\n",
    "print('Number of Columns: {}'.format(df.shape[1]))"
   ]
  },
  {
   "cell_type": "code",
   "execution_count": 5,
   "id": "11528912",
   "metadata": {
    "ExecuteTime": {
     "end_time": "2023-04-09T18:55:27.672982Z",
     "start_time": "2023-04-09T18:55:27.669462Z"
    }
   },
   "outputs": [
    {
     "data": {
      "text/plain": [
       "id                 int64\n",
       "date              object\n",
       "price            float64\n",
       "bedrooms           int64\n",
       "bathrooms        float64\n",
       "sqft_living        int64\n",
       "sqft_lot           int64\n",
       "floors           float64\n",
       "waterfront         int64\n",
       "view               int64\n",
       "condition          int64\n",
       "grade              int64\n",
       "sqft_above         int64\n",
       "sqft_basement      int64\n",
       "yr_built           int64\n",
       "yr_renovated       int64\n",
       "zipcode            int64\n",
       "lat              float64\n",
       "long             float64\n",
       "sqft_living15      int64\n",
       "sqft_lot15         int64\n",
       "dtype: object"
      ]
     },
     "execution_count": 5,
     "metadata": {},
     "output_type": "execute_result"
    }
   ],
   "source": [
    "# Data Type\n",
    "df.dtypes"
   ]
  },
  {
   "cell_type": "code",
   "execution_count": 6,
   "id": "dfa8f23c",
   "metadata": {
    "ExecuteTime": {
     "end_time": "2023-04-09T18:55:27.769426Z",
     "start_time": "2023-04-09T18:55:27.673971Z"
    }
   },
   "outputs": [
    {
     "ename": "NameError",
     "evalue": "name 'colorscale' is not defined",
     "output_type": "error",
     "traceback": [
      "\u001b[0;31m---------------------------------------------------------------------------\u001b[0m",
      "\u001b[0;31mNameError\u001b[0m                                 Traceback (most recent call last)",
      "\u001b[0;32m/var/folders/jf/tpyqw3n940gcryws25df_sqw0000gn/T/ipykernel_24429/2697536783.py\u001b[0m in \u001b[0;36m<module>\u001b[0;34m\u001b[0m\n\u001b[1;32m      4\u001b[0m                  \u001b[0msize\u001b[0m\u001b[0;34m=\u001b[0m\u001b[0;34m'price'\u001b[0m\u001b[0;34m,\u001b[0m\u001b[0;34m\u001b[0m\u001b[0;34m\u001b[0m\u001b[0m\n\u001b[1;32m      5\u001b[0m                  \u001b[0mtitle\u001b[0m\u001b[0;34m=\u001b[0m\u001b[0;34m'Relationship between Location and Price'\u001b[0m\u001b[0;34m,\u001b[0m\u001b[0;34m\u001b[0m\u001b[0;34m\u001b[0m\u001b[0m\n\u001b[0;32m----> 6\u001b[0;31m                  color_continuous_scale=colorscale)\n\u001b[0m\u001b[1;32m      7\u001b[0m \u001b[0;34m\u001b[0m\u001b[0m\n\u001b[1;32m      8\u001b[0m \u001b[0;31m# Show the plot\u001b[0m\u001b[0;34m\u001b[0m\u001b[0;34m\u001b[0m\u001b[0;34m\u001b[0m\u001b[0m\n",
      "\u001b[0;31mNameError\u001b[0m: name 'colorscale' is not defined"
     ]
    }
   ],
   "source": [
    "# Create the scatter plot\n",
    "fig = px.scatter(df, x='long', y='lat', \n",
    "                 color='price', \n",
    "                 size='price', \n",
    "                 title='Relationship between Location and Price',\n",
    "                 color_continuous_scale=colorscale)\n",
    "\n",
    "# Show the plot\n",
    "fig.show()"
   ]
  },
  {
   "cell_type": "code",
   "execution_count": null,
   "id": "10fc4cbc",
   "metadata": {
    "ExecuteTime": {
     "end_time": "2023-04-09T18:55:27.770447Z",
     "start_time": "2023-04-09T18:55:27.770439Z"
    }
   },
   "outputs": [],
   "source": [
    "# Map indicating where the houses are located by geography\n",
    "df_filtered = df[df['price'] > 2000000]\n",
    "\n",
    "# Create a scatter plot on a Mapbox map using Plotly Express\n",
    "fig = px.scatter_mapbox(df_filtered,\n",
    "                         lat='lat', lon='long', hover_name='id', hover_data=['price'],size=\"sqft_living\",\n",
    "                         color='price', zoom=8, height=500, width=620, color_continuous_scale=colorscale)\n",
    "\n",
    "\n",
    "fig.update_layout(mapbox_style='open-street-map')\n",
    "\n",
    "# size and margins of the plot\n",
    "fig.update_layout(height=440, margin={'r': 0, 't': 0, 'l': 0, 'b': 0})\n",
    "\n",
    "#center and zoom level of the Mapbox map\n",
    "fig.update_layout(\n",
    "    mapbox=dict(\n",
    "        center=dict(lat=47.5015, lon=-121.972),\n",
    "        style='open-street-map',\n",
    "        zoom=8.1\n",
    "    )\n",
    ")\n",
    "\n",
    "# Display the resulting plot\n",
    "fig.show()"
   ]
  },
  {
   "cell_type": "code",
   "execution_count": null,
   "id": "68e58652",
   "metadata": {
    "ExecuteTime": {
     "end_time": "2023-04-09T18:55:27.770932Z",
     "start_time": "2023-04-09T18:55:27.770924Z"
    }
   },
   "outputs": [],
   "source": [
    "# ScatterPlot Fig 3\n",
    "df['condition_'] = df['condition']\n",
    "fig3 = px.scatter(df, x=\"price\", y=\"bathrooms\", color=\"price\", size='sqft_living')\n",
    "fig3.update_layout(height=450, width=800)"
   ]
  },
  {
   "cell_type": "code",
   "execution_count": null,
   "id": "1409c734",
   "metadata": {
    "ExecuteTime": {
     "end_time": "2023-04-09T18:55:27.771897Z",
     "start_time": "2023-04-09T18:55:27.771889Z"
    }
   },
   "outputs": [],
   "source": [
    "# Bar chart that represents the sum of the prices by the condition\n",
    "\n",
    "# Update the 'condition' column to create a new column called 'condition_cat'\n",
    "# where properties with condition 2 are labeled 'low', properties with condition 3 or 4 are labeled 'medium',\n",
    "# and properties with condition 5 are labeled 'high'\n",
    "df['condition_cat'] = df['condition'].apply(lambda x: 'low' if x == 2 else 'medium' if x == 3 or x == 4 else 'high')\n",
    "\n",
    "# Group the 'price' column by the 'condition_cat' column and calculate the sum\n",
    "df1 = df[['price', 'condition_cat']].groupby('condition_cat').mean().reset_index()\n",
    "\n",
    "# Create a bar chart using Plotly Express, specifying the 'x' and 'y' columns\n",
    "fig = px.bar(df1, x='condition_cat', y='price', color_discrete_sequence=['#8FBC8F'])\n",
    "\n",
    "# Set the plot and paper background colors to transparent\n",
    "# fig.update_layout(plot_bgcolor='rgba(0,0,0,0)', paper_bgcolor='rgba(0,0,0,0)')\n",
    "\n",
    "# Show the resulting plot\n",
    "fig.show()"
   ]
  },
  {
   "cell_type": "code",
   "execution_count": null,
   "id": "93dda996",
   "metadata": {
    "ExecuteTime": {
     "end_time": "2023-04-09T18:55:27.772451Z",
     "start_time": "2023-04-09T18:55:27.772442Z"
    }
   },
   "outputs": [],
   "source": [
    "import plotly.graph_objects as go\n",
    "\n",
    "x_data = df['waterfront']\n",
    "y_data = df['price']\n",
    "fig = go.Figure(data=[go.Bar(x=x_data, y=y_data)])\n",
    "fig.update_traces(marker_color='rgb(144, 202, 249)' , marker_line_color='rgb(8,48,107)',\n",
    "                  marker_line_width=1.5, opacity=0.6)\n",
    "\n",
    "fig.show()"
   ]
  },
  {
   "cell_type": "code",
   "execution_count": null,
   "id": "85b58e79",
   "metadata": {
    "ExecuteTime": {
     "end_time": "2023-04-09T18:55:27.773041Z",
     "start_time": "2023-04-09T18:55:27.773033Z"
    }
   },
   "outputs": [],
   "source": [
    "# Group the 'price' column by the 'yr_built' column and calculate the mean\n",
    "df1 = df[['price', 'yr_built']].groupby('yr_built').mean().reset_index()\n",
    "\n",
    "# Create a line chart using Plotly Express, specifying the 'x' and 'y' columns, and setting the chart title\n",
    "fig = px.line(df1, x=\"yr_built\", y=\"price\", title='Average prices for the year of construction of the properties', \n",
    "              color_discrete_sequence=['#8FBC8F'])\n",
    "\n",
    "# Show the resulting plot\n",
    "fig.show()"
   ]
  },
  {
   "cell_type": "code",
   "execution_count": null,
   "id": "aae28456",
   "metadata": {
    "ExecuteTime": {
     "end_time": "2023-04-09T18:55:27.773753Z",
     "start_time": "2023-04-09T18:55:27.773745Z"
    }
   },
   "outputs": [],
   "source": [
    "# Create a plot with 'sqft_living' on the x-axis, 'price' on the y-axis, and 'zipcode' as the size and color\n",
    "fig = px.scatter(df, x='sqft_living', y='price', size='zipcode', color='zipcode', \n",
    "                 title='Relationship between Price, Sqft Living, and Zipcode', color_continuous_scale=colorscale)\n",
    "\n",
    "# Show the plot\n",
    "fig.show()"
   ]
  },
  {
   "cell_type": "code",
   "execution_count": null,
   "id": "d9a34c0c",
   "metadata": {
    "ExecuteTime": {
     "end_time": "2023-04-09T18:55:27.774457Z",
     "start_time": "2023-04-09T18:55:27.774448Z"
    }
   },
   "outputs": [],
   "source": [
    "df['condition_'] = df['condition'].apply(lambda x: 'low' if x == 2 else 'medium' if x == 3 or x == 4 else 'high')\n",
    "\n",
    "# Group the 'price' column by the 'condition_cat' column and calculate the sum\n",
    "df1 = df[['price', 'condition_']].groupby('condition_').mean().reset_index()\n",
    "\n",
    "# Create a bar chart using Plotly Express, specifying the 'x' and 'y' columns\n",
    "fig4 = px.bar(df1, x='condition_', y='price', color_discrete_sequence=['#8FBC8F'])\n",
    "# set the height and width of the chart\n",
    "fig4.update_layout(height=450, width=650)\n"
   ]
  },
  {
   "cell_type": "code",
   "execution_count": null,
   "id": "d7ad669a",
   "metadata": {
    "ExecuteTime": {
     "end_time": "2023-04-09T18:55:27.774934Z",
     "start_time": "2023-04-09T18:55:27.774927Z"
    }
   },
   "outputs": [],
   "source": [
    "# Create bar chart\n",
    "fig5 = go.Figure(data=[go.Bar(x=df['waterfront'].replace({1: 'Waterfront', 0: 'No Waterfront'}), y=df['price'])])\n",
    "\n",
    "# Customize aspect\n",
    "fig5.update_traces(marker_color='rgb(158,202,225)', marker_line_color='rgb(8,48,107)',\n",
    "                  marker_line_width=1.5, opacity=0.6)\n",
    "\n",
    "fig5.show()"
   ]
  },
  {
   "cell_type": "code",
   "execution_count": null,
   "id": "2aba4c8d",
   "metadata": {
    "ExecuteTime": {
     "end_time": "2023-04-09T18:55:27.775419Z",
     "start_time": "2023-04-09T18:55:27.775412Z"
    }
   },
   "outputs": [],
   "source": [
    "trace = go.Scatter(\n",
    "    x=df['yr_built'],\n",
    "    y=df['price'],\n",
    "    mode='markers',\n",
    "    marker=dict(color='#8FBC8F')\n",
    ")\n",
    "data = [trace]\n",
    "\n",
    "layout = go.Layout(title='Scatter plot of price vs year built')\n",
    "\n",
    "fig9 = go.Figure(data=data, layout=layout)\n",
    "# Create and add slider\n",
    "steps = []\n",
    "for i in range(len(fig9.data)):\n",
    "    step = dict(\n",
    "        method=\"update\",\n",
    "        args=[{\"visible\": [False] * len(fig9.data)},\n",
    "              {\"title\": \"Slider switched to step: \" + str(i)}],  # layout attribute\n",
    "    )\n",
    "    step[\"args\"][0][\"visible\"][i] = True  # Toggle i'th trace to \"visible\"\n",
    "    steps.append(step)\n",
    "\n",
    "sliders = [dict(    active=10,    currentvalue={\"prefix\": \"Frequency: \"},    pad={\"t\": 50},    steps=steps)]\n",
    "\n",
    "fig9.update_layout(\n",
    "    sliders=sliders\n",
    ")"
   ]
  },
  {
   "cell_type": "code",
   "execution_count": null,
   "id": "e2b02163",
   "metadata": {},
   "outputs": [],
   "source": []
  }
 ],
 "metadata": {
  "kernelspec": {
   "display_name": "Python 3",
   "language": "python",
   "name": "python3"
  },
  "language_info": {
   "codemirror_mode": {
    "name": "ipython",
    "version": 3
   },
   "file_extension": ".py",
   "mimetype": "text/x-python",
   "name": "python",
   "nbconvert_exporter": "python",
   "pygments_lexer": "ipython3",
   "version": "3.7.6"
  },
  "nbTranslate": {
   "displayLangs": [
    "*"
   ],
   "hotkey": "alt-t",
   "langInMainMenu": true,
   "sourceLang": "en",
   "targetLang": "fr",
   "useGoogleTranslate": true
  }
 },
 "nbformat": 4,
 "nbformat_minor": 5
}
